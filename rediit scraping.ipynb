{
 "cells": [
  {
   "cell_type": "code",
   "execution_count": 1,
   "metadata": {},
   "outputs": [],
   "source": [
    "import praw\n",
    "import re"
   ]
  },
  {
   "cell_type": "code",
   "execution_count": 2,
   "metadata": {},
   "outputs": [],
   "source": [
    "reddit = praw.Reddit(client_id='X2rSOuZikl5sTQ', client_secret='Cvl0Nsy_r_aodaqUeaf5hJtpNTkJTg', user_agent='reditt webscrape')\n"
   ]
  },
  {
   "cell_type": "code",
   "execution_count": 3,
   "metadata": {},
   "outputs": [
    {
     "name": "stdout",
     "output_type": "stream",
     "text": [
      "Coronavirus Datasets\n",
      "Monthly Discussion and Chat Thread\n",
      "[Request] Dataset of Knowledge Graph Representations\n",
      "Has anyone access to dataset of radon (and/or its byproduct) activity throughout long terms or atleast continous?\n",
      "Someone can tell me how to collect data from google please guys help me\n",
      "[Request] NSSE data?\n",
      "Anyone know of a time series data set of allergy incidence for the US? Either my state or by region?\n",
      "Over 250 000 000 unique coronavirus/covid associated tweets, n-gram counts, hashtag counts, and tweet ids by day, collected since January 17th\n",
      "Tech Words/Documents Dataset\n",
      "Insurance Datasets for Machine Learning\n"
     ]
    }
   ],
   "source": [
    "# get 10 hot posts from the MachineLearning subreddit\n",
    "hot_posts = reddit.subreddit('Datasets').hot(limit=10)\n",
    "for post in hot_posts:\n",
    "    print(post.title)"
   ]
  },
  {
   "cell_type": "code",
   "execution_count": 4,
   "metadata": {},
   "outputs": [
    {
     "name": "stdout",
     "output_type": "stream",
     "text": [
      "                                               title  score  num_comments  \\\n",
      "0                    Welcome. Start by reading this.   1512           446   \n",
      "1  The ULTIMATE Dopamine Detox (Isolation Tank fo...     27             6   \n",
      "2  anyone doing this with the 'happy stack'? urid...      3             2   \n",
      "3                                     To fixing life     25             3   \n",
      "4                         I can't study please help.     10            10   \n",
      "5                                   Longest day ever      2             0   \n",
      "6   Is Dopamine detox suitable for one who has ADHD?      9            16   \n",
      "7                                          Reddit...      2             3   \n",
      "8                Accidentally beat youtube addiction     51            13   \n",
      "9  Hello guys just a question about dopamine rece...      1             5   \n",
      "\n",
      "                                                body  \n",
      "0  Hello and welcome. You're here because you rec...  \n",
      "1                                                     \n",
      "2  supposed to help balance you out, and it reall...  \n",
      "3  I don't want to sound so dramatic but I feel l...  \n",
      "4  Hi guys I have a problem that's been flowing m...  \n",
      "5  I did a dopamine detox for 24 hours a few week...  \n",
      "6  Just wondering since we already deplete our do...  \n",
      "7  Help im addicted to reddit. I already deleted ...  \n",
      "8  Given how this subreddit works and what you gu...  \n",
      "9  After I reboot from PMO, is there’s any thing ...  \n"
     ]
    }
   ],
   "source": [
    "import pandas as pd\n",
    "posts = []\n",
    "ml_subreddit = reddit.subreddit('DopamineDetoxing')\n",
    "for post in ml_subreddit.hot(limit=10):\n",
    "    posts.append([post.title, post.score, post.num_comments, post.selftext])\n",
    "posts = pd.DataFrame(posts,columns=['title', 'score', 'num_comments', 'body'])\n",
    "print(posts)"
   ]
  },
  {
   "cell_type": "code",
   "execution_count": 5,
   "metadata": {},
   "outputs": [],
   "source": [
    "del posts[\"num_comments\"]"
   ]
  },
  {
   "cell_type": "code",
   "execution_count": 6,
   "metadata": {},
   "outputs": [
    {
     "data": {
      "text/html": [
       "<div>\n",
       "<style scoped>\n",
       "    .dataframe tbody tr th:only-of-type {\n",
       "        vertical-align: middle;\n",
       "    }\n",
       "\n",
       "    .dataframe tbody tr th {\n",
       "        vertical-align: top;\n",
       "    }\n",
       "\n",
       "    .dataframe thead th {\n",
       "        text-align: right;\n",
       "    }\n",
       "</style>\n",
       "<table border=\"1\" class=\"dataframe\">\n",
       "  <thead>\n",
       "    <tr style=\"text-align: right;\">\n",
       "      <th></th>\n",
       "      <th>title</th>\n",
       "      <th>score</th>\n",
       "      <th>body</th>\n",
       "    </tr>\n",
       "  </thead>\n",
       "  <tbody>\n",
       "    <tr>\n",
       "      <th>0</th>\n",
       "      <td>Welcome. Start by reading this.</td>\n",
       "      <td>1512</td>\n",
       "      <td>Hello and welcome. You're here because you rec...</td>\n",
       "    </tr>\n",
       "    <tr>\n",
       "      <th>1</th>\n",
       "      <td>The ULTIMATE Dopamine Detox (Isolation Tank fo...</td>\n",
       "      <td>27</td>\n",
       "      <td></td>\n",
       "    </tr>\n",
       "    <tr>\n",
       "      <th>2</th>\n",
       "      <td>anyone doing this with the 'happy stack'? urid...</td>\n",
       "      <td>3</td>\n",
       "      <td>supposed to help balance you out, and it reall...</td>\n",
       "    </tr>\n",
       "    <tr>\n",
       "      <th>3</th>\n",
       "      <td>To fixing life</td>\n",
       "      <td>25</td>\n",
       "      <td>I don't want to sound so dramatic but I feel l...</td>\n",
       "    </tr>\n",
       "    <tr>\n",
       "      <th>4</th>\n",
       "      <td>I can't study please help.</td>\n",
       "      <td>10</td>\n",
       "      <td>Hi guys I have a problem that's been flowing m...</td>\n",
       "    </tr>\n",
       "    <tr>\n",
       "      <th>5</th>\n",
       "      <td>Longest day ever</td>\n",
       "      <td>2</td>\n",
       "      <td>I did a dopamine detox for 24 hours a few week...</td>\n",
       "    </tr>\n",
       "    <tr>\n",
       "      <th>6</th>\n",
       "      <td>Is Dopamine detox suitable for one who has ADHD?</td>\n",
       "      <td>9</td>\n",
       "      <td>Just wondering since we already deplete our do...</td>\n",
       "    </tr>\n",
       "    <tr>\n",
       "      <th>7</th>\n",
       "      <td>Reddit...</td>\n",
       "      <td>2</td>\n",
       "      <td>Help im addicted to reddit. I already deleted ...</td>\n",
       "    </tr>\n",
       "    <tr>\n",
       "      <th>8</th>\n",
       "      <td>Accidentally beat youtube addiction</td>\n",
       "      <td>51</td>\n",
       "      <td>Given how this subreddit works and what you gu...</td>\n",
       "    </tr>\n",
       "    <tr>\n",
       "      <th>9</th>\n",
       "      <td>Hello guys just a question about dopamine rece...</td>\n",
       "      <td>1</td>\n",
       "      <td>After I reboot from PMO, is there’s any thing ...</td>\n",
       "    </tr>\n",
       "  </tbody>\n",
       "</table>\n",
       "</div>"
      ],
      "text/plain": [
       "                                               title  score  \\\n",
       "0                    Welcome. Start by reading this.   1512   \n",
       "1  The ULTIMATE Dopamine Detox (Isolation Tank fo...     27   \n",
       "2  anyone doing this with the 'happy stack'? urid...      3   \n",
       "3                                     To fixing life     25   \n",
       "4                         I can't study please help.     10   \n",
       "5                                   Longest day ever      2   \n",
       "6   Is Dopamine detox suitable for one who has ADHD?      9   \n",
       "7                                          Reddit...      2   \n",
       "8                Accidentally beat youtube addiction     51   \n",
       "9  Hello guys just a question about dopamine rece...      1   \n",
       "\n",
       "                                                body  \n",
       "0  Hello and welcome. You're here because you rec...  \n",
       "1                                                     \n",
       "2  supposed to help balance you out, and it reall...  \n",
       "3  I don't want to sound so dramatic but I feel l...  \n",
       "4  Hi guys I have a problem that's been flowing m...  \n",
       "5  I did a dopamine detox for 24 hours a few week...  \n",
       "6  Just wondering since we already deplete our do...  \n",
       "7  Help im addicted to reddit. I already deleted ...  \n",
       "8  Given how this subreddit works and what you gu...  \n",
       "9  After I reboot from PMO, is there’s any thing ...  "
      ]
     },
     "execution_count": 6,
     "metadata": {},
     "output_type": "execute_result"
    }
   ],
   "source": [
    "posts"
   ]
  },
  {
   "cell_type": "code",
   "execution_count": 7,
   "metadata": {},
   "outputs": [],
   "source": [
    "sorted_df = posts.sort_values('score', ascending=False)"
   ]
  },
  {
   "cell_type": "code",
   "execution_count": 8,
   "metadata": {},
   "outputs": [
    {
     "data": {
      "text/html": [
       "<div>\n",
       "<style scoped>\n",
       "    .dataframe tbody tr th:only-of-type {\n",
       "        vertical-align: middle;\n",
       "    }\n",
       "\n",
       "    .dataframe tbody tr th {\n",
       "        vertical-align: top;\n",
       "    }\n",
       "\n",
       "    .dataframe thead th {\n",
       "        text-align: right;\n",
       "    }\n",
       "</style>\n",
       "<table border=\"1\" class=\"dataframe\">\n",
       "  <thead>\n",
       "    <tr style=\"text-align: right;\">\n",
       "      <th></th>\n",
       "      <th>title</th>\n",
       "      <th>score</th>\n",
       "      <th>body</th>\n",
       "    </tr>\n",
       "  </thead>\n",
       "  <tbody>\n",
       "    <tr>\n",
       "      <th>0</th>\n",
       "      <td>Welcome. Start by reading this.</td>\n",
       "      <td>1512</td>\n",
       "      <td>Hello and welcome. You're here because you rec...</td>\n",
       "    </tr>\n",
       "    <tr>\n",
       "      <th>8</th>\n",
       "      <td>Accidentally beat youtube addiction</td>\n",
       "      <td>51</td>\n",
       "      <td>Given how this subreddit works and what you gu...</td>\n",
       "    </tr>\n",
       "    <tr>\n",
       "      <th>1</th>\n",
       "      <td>The ULTIMATE Dopamine Detox (Isolation Tank fo...</td>\n",
       "      <td>27</td>\n",
       "      <td></td>\n",
       "    </tr>\n",
       "    <tr>\n",
       "      <th>3</th>\n",
       "      <td>To fixing life</td>\n",
       "      <td>25</td>\n",
       "      <td>I don't want to sound so dramatic but I feel l...</td>\n",
       "    </tr>\n",
       "    <tr>\n",
       "      <th>4</th>\n",
       "      <td>I can't study please help.</td>\n",
       "      <td>10</td>\n",
       "      <td>Hi guys I have a problem that's been flowing m...</td>\n",
       "    </tr>\n",
       "    <tr>\n",
       "      <th>6</th>\n",
       "      <td>Is Dopamine detox suitable for one who has ADHD?</td>\n",
       "      <td>9</td>\n",
       "      <td>Just wondering since we already deplete our do...</td>\n",
       "    </tr>\n",
       "    <tr>\n",
       "      <th>2</th>\n",
       "      <td>anyone doing this with the 'happy stack'? urid...</td>\n",
       "      <td>3</td>\n",
       "      <td>supposed to help balance you out, and it reall...</td>\n",
       "    </tr>\n",
       "    <tr>\n",
       "      <th>5</th>\n",
       "      <td>Longest day ever</td>\n",
       "      <td>2</td>\n",
       "      <td>I did a dopamine detox for 24 hours a few week...</td>\n",
       "    </tr>\n",
       "    <tr>\n",
       "      <th>7</th>\n",
       "      <td>Reddit...</td>\n",
       "      <td>2</td>\n",
       "      <td>Help im addicted to reddit. I already deleted ...</td>\n",
       "    </tr>\n",
       "    <tr>\n",
       "      <th>9</th>\n",
       "      <td>Hello guys just a question about dopamine rece...</td>\n",
       "      <td>1</td>\n",
       "      <td>After I reboot from PMO, is there’s any thing ...</td>\n",
       "    </tr>\n",
       "  </tbody>\n",
       "</table>\n",
       "</div>"
      ],
      "text/plain": [
       "                                               title  score  \\\n",
       "0                    Welcome. Start by reading this.   1512   \n",
       "8                Accidentally beat youtube addiction     51   \n",
       "1  The ULTIMATE Dopamine Detox (Isolation Tank fo...     27   \n",
       "3                                     To fixing life     25   \n",
       "4                         I can't study please help.     10   \n",
       "6   Is Dopamine detox suitable for one who has ADHD?      9   \n",
       "2  anyone doing this with the 'happy stack'? urid...      3   \n",
       "5                                   Longest day ever      2   \n",
       "7                                          Reddit...      2   \n",
       "9  Hello guys just a question about dopamine rece...      1   \n",
       "\n",
       "                                                body  \n",
       "0  Hello and welcome. You're here because you rec...  \n",
       "8  Given how this subreddit works and what you gu...  \n",
       "1                                                     \n",
       "3  I don't want to sound so dramatic but I feel l...  \n",
       "4  Hi guys I have a problem that's been flowing m...  \n",
       "6  Just wondering since we already deplete our do...  \n",
       "2  supposed to help balance you out, and it reall...  \n",
       "5  I did a dopamine detox for 24 hours a few week...  \n",
       "7  Help im addicted to reddit. I already deleted ...  \n",
       "9  After I reboot from PMO, is there’s any thing ...  "
      ]
     },
     "execution_count": 8,
     "metadata": {},
     "output_type": "execute_result"
    }
   ],
   "source": [
    "sorted_df"
   ]
  },
  {
   "cell_type": "markdown",
   "metadata": {},
   "source": [
    "1) Which type of dopamine addiction do people have in questions and body ?"
   ]
  },
  {
   "cell_type": "markdown",
   "metadata": {},
   "source": [
    "2) Which are the most repeated words in title ?"
   ]
  },
  {
   "cell_type": "code",
   "execution_count": 9,
   "metadata": {},
   "outputs": [],
   "source": [
    "df_t = sorted_df['title'].copy()\n",
    "df_b= sorted_df['body'].copy()"
   ]
  },
  {
   "cell_type": "code",
   "execution_count": 10,
   "metadata": {},
   "outputs": [],
   "source": [
    "def remove_urls(text):\n",
    "    url_remove = re.compile(r'https?://\\S+|www\\.\\S+?')\n",
    "    return url_remove.sub(r'', text)\n",
    "df_t = sorted_df['title'].apply(lambda x:remove_urls(x))\n",
    "df_b = sorted_df['body'].apply(lambda x:remove_urls(x))"
   ]
  },
  {
   "cell_type": "code",
   "execution_count": 11,
   "metadata": {},
   "outputs": [],
   "source": [
    "def remove_html(text):\n",
    "    html=re.compile(r'<.*?>')\n",
    "    return html.sub(r'',text)\n",
    "df_t = df_t.apply(lambda x:remove_html(x))\n",
    "df_b = df_b.apply(lambda x:remove_html(x))"
   ]
  },
  {
   "cell_type": "code",
   "execution_count": 13,
   "metadata": {},
   "outputs": [],
   "source": [
    "def lower(text):\n",
    "    low_text= text.lower()\n",
    "    return low_text\n",
    "df_t = df_t.apply(lambda x:lower(x))\n",
    "df_b = df_b.apply(lambda x:lower(x))"
   ]
  },
  {
   "cell_type": "code",
   "execution_count": 15,
   "metadata": {},
   "outputs": [],
   "source": [
    "def remove_num(text):\n",
    "    remove= re.sub(r'\\d+', '', text)\n",
    "    return remove\n",
    "df_t = df_t.apply(lambda x:remove_num(x))\n",
    "df_b = df_b.apply(lambda x:remove_num(x))"
   ]
  }
 ],
 "metadata": {
  "kernelspec": {
   "display_name": "Python 3",
   "language": "python",
   "name": "python3"
  },
  "language_info": {
   "codemirror_mode": {
    "name": "ipython",
    "version": 3
   },
   "file_extension": ".py",
   "mimetype": "text/x-python",
   "name": "python",
   "nbconvert_exporter": "python",
   "pygments_lexer": "ipython3",
   "version": "3.8.5"
  }
 },
 "nbformat": 4,
 "nbformat_minor": 4
}
